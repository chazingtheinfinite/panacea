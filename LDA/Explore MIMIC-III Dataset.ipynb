{
 "cells": [
  {
   "cell_type": "markdown",
   "metadata": {},
   "source": [
    "# Explore MIMIC-III Dataset\n",
    "### Author: Kevin Dick\n",
    "\n",
    "This Notebook is used to explore the MIMIC-III dataset and captures assumptions made for the ICD-9 Prediction Project."
   ]
  },
  {
   "cell_type": "code",
   "execution_count": 2,
   "metadata": {},
   "outputs": [],
   "source": [
    "import numpy as np\n",
    "import pandas as pd\n",
    "import matplotlib.pyplot as plt\n",
    "import psycopg2\n",
    "\n",
    "# below imports are used to print out pretty pandas dataframes\n",
    "from IPython.display import display, HTML\n",
    "\n",
    "# Set the Matplotlib to use inline plots\n",
    "plt.style.use('ggplot')\n",
    "\n",
    "# Set the database connection information\n",
    "sqluser = 'postgres'\n",
    "dbname = 'mimic'\n",
    "schema_name = 'mimiciii'\n",
    "\n",
    "# Connect to postgres with a copy of the MIMIC-III database\n",
    "con = psycopg2.connect(dbname=dbname, user=sqluser)\n",
    "\n",
    "# the below statement is prepended to queries to ensure they select from the right schema\n",
    "query_schema = 'set search_path to ' + schema_name + ';'"
   ]
  },
  {
   "cell_type": "code",
   "execution_count": 17,
   "metadata": {
    "scrolled": true
   },
   "outputs": [
    {
     "data": {
      "text/html": [
       "<div>\n",
       "<style>\n",
       "    .dataframe thead tr:only-child th {\n",
       "        text-align: right;\n",
       "    }\n",
       "\n",
       "    .dataframe thead th {\n",
       "        text-align: left;\n",
       "    }\n",
       "\n",
       "    .dataframe tbody tr th {\n",
       "        vertical-align: top;\n",
       "    }\n",
       "</style>\n",
       "<table border=\"1\" class=\"dataframe\">\n",
       "  <thead>\n",
       "    <tr style=\"text-align: right;\">\n",
       "      <th></th>\n",
       "      <th>subject_id</th>\n",
       "      <th>num_vistis</th>\n",
       "    </tr>\n",
       "  </thead>\n",
       "  <tbody>\n",
       "    <tr>\n",
       "      <th>0</th>\n",
       "      <td>10295</td>\n",
       "      <td>1</td>\n",
       "    </tr>\n",
       "    <tr>\n",
       "      <th>1</th>\n",
       "      <td>11890</td>\n",
       "      <td>1</td>\n",
       "    </tr>\n",
       "    <tr>\n",
       "      <th>2</th>\n",
       "      <td>22262</td>\n",
       "      <td>1</td>\n",
       "    </tr>\n",
       "    <tr>\n",
       "      <th>3</th>\n",
       "      <td>6122</td>\n",
       "      <td>1</td>\n",
       "    </tr>\n",
       "    <tr>\n",
       "      <th>4</th>\n",
       "      <td>65130</td>\n",
       "      <td>1</td>\n",
       "    </tr>\n",
       "    <tr>\n",
       "      <th>5</th>\n",
       "      <td>12267</td>\n",
       "      <td>2</td>\n",
       "    </tr>\n",
       "    <tr>\n",
       "      <th>6</th>\n",
       "      <td>23772</td>\n",
       "      <td>1</td>\n",
       "    </tr>\n",
       "    <tr>\n",
       "      <th>7</th>\n",
       "      <td>28365</td>\n",
       "      <td>3</td>\n",
       "    </tr>\n",
       "    <tr>\n",
       "      <th>8</th>\n",
       "      <td>8533</td>\n",
       "      <td>3</td>\n",
       "    </tr>\n",
       "    <tr>\n",
       "      <th>9</th>\n",
       "      <td>12377</td>\n",
       "      <td>1</td>\n",
       "    </tr>\n",
       "  </tbody>\n",
       "</table>\n",
       "</div>"
      ],
      "text/plain": [
       "   subject_id  num_vistis\n",
       "0       10295           1\n",
       "1       11890           1\n",
       "2       22262           1\n",
       "3        6122           1\n",
       "4       65130           1\n",
       "5       12267           2\n",
       "6       23772           1\n",
       "7       28365           3\n",
       "8        8533           3\n",
       "9       12377           1"
      ]
     },
     "execution_count": 17,
     "metadata": {},
     "output_type": "execute_result"
    }
   ],
   "source": [
    "# Investigate the distributions of dates to look at sequentiality...\n",
    "\n",
    "# First find a few cases with multiple admissions\n",
    "query = query_schema + \"\"\"\n",
    "SELECT subject_id, COUNT(subject_id) AS num_vistis\n",
    "FROM admissions\n",
    "GROUP BY subject_id\n",
    "\"\"\"\n",
    "df = pd.read_sql_query(query, con)\n",
    "df.head(10)"
   ]
  },
  {
   "cell_type": "code",
   "execution_count": 22,
   "metadata": {},
   "outputs": [
    {
     "data": {
      "text/html": [
       "<div>\n",
       "<style>\n",
       "    .dataframe thead tr:only-child th {\n",
       "        text-align: right;\n",
       "    }\n",
       "\n",
       "    .dataframe thead th {\n",
       "        text-align: left;\n",
       "    }\n",
       "\n",
       "    .dataframe tbody tr th {\n",
       "        vertical-align: top;\n",
       "    }\n",
       "</style>\n",
       "<table border=\"1\" class=\"dataframe\">\n",
       "  <thead>\n",
       "    <tr style=\"text-align: right;\">\n",
       "      <th></th>\n",
       "      <th>chartdate</th>\n",
       "    </tr>\n",
       "  </thead>\n",
       "  <tbody>\n",
       "    <tr>\n",
       "      <th>0</th>\n",
       "      <td>2187-11-07</td>\n",
       "    </tr>\n",
       "    <tr>\n",
       "      <th>1</th>\n",
       "      <td>2190-01-08</td>\n",
       "    </tr>\n",
       "    <tr>\n",
       "      <th>2</th>\n",
       "      <td>2192-06-22</td>\n",
       "    </tr>\n",
       "    <tr>\n",
       "      <th>3</th>\n",
       "      <td>2190-01-05</td>\n",
       "    </tr>\n",
       "    <tr>\n",
       "      <th>4</th>\n",
       "      <td>2190-01-05</td>\n",
       "    </tr>\n",
       "  </tbody>\n",
       "</table>\n",
       "</div>"
      ],
      "text/plain": [
       "   chartdate\n",
       "0 2187-11-07\n",
       "1 2190-01-08\n",
       "2 2192-06-22\n",
       "3 2190-01-05\n",
       "4 2190-01-05"
      ]
     },
     "execution_count": 22,
     "metadata": {},
     "output_type": "execute_result"
    }
   ],
   "source": [
    "# Selecting the patients with subject_id 8533 and 283665 to query the sequentiality of their dates\n",
    "query = query_schema + \"\"\"\n",
    "SELECT chartdate\n",
    "FROM noteevents\n",
    "WHERE subject_id = 28365\n",
    "\"\"\"\n",
    "df = pd.read_sql_query(query, con)\n",
    "df.head()"
   ]
  },
  {
   "cell_type": "markdown",
   "metadata": {},
   "source": [
    "## Dates are Internally Consistent!\n",
    "Our experimental design should ensure that all patients have at **least two admissions** (to limit the num of subject ids). Of these admissions, we need to **determine the LAST admission date** on a per-patient basis for our hold-out test. The remaining data is used for training. This is a more appropriate splitting of data since it operates on a per-patient basis, as opposed to the selection of a static split-point.\n"
   ]
  },
  {
   "cell_type": "code",
   "execution_count": 50,
   "metadata": {
    "scrolled": true
   },
   "outputs": [
    {
     "data": {
      "text/html": [
       "<iframe id=\"igraph\" scrolling=\"no\" style=\"border:none;\" seamless=\"seamless\" src=\"https://plot.ly/~chasingtheinfinite/13.embed\" height=\"525px\" width=\"100%\"></iframe>"
      ],
      "text/plain": [
       "<plotly.tools.PlotlyDisplay object>"
      ]
     },
     "execution_count": 50,
     "metadata": {},
     "output_type": "execute_result"
    }
   ],
   "source": [
    "# Lets produce a plot of the distribution of admissions of two or greater before moving forward...\n",
    "query = query_schema + \"\"\"\n",
    "SELECT subject_id, num_visits\n",
    "    FROM (SELECT subject_id, COUNT(subject_id) AS num_visits\n",
    "        FROM admissions\n",
    "        GROUP BY subject_id) AS count_table\n",
    "    WHERE num_visits > 0\n",
    "\"\"\"\n",
    "df = pd.read_sql_query(query, con)\n",
    "\n",
    "import plotly\n",
    "plotly.tools.set_credentials_file(username='chasingtheinfinite', api_key='Bmxrkfjwkbf4jHbI71Fo')\n",
    "import plotly.plotly as py\n",
    "import plotly.graph_objs as go\n",
    "\n",
    "trace = go.Histogram(x=df.num_visits, xbins=dict(start=2, size=1, end=np.max(df.num_visits)),marker=dict(color='rgb(0, 0, 100)'))\n",
    "layout = go.Layout(title=\"Histogram of the Frequency of Hospital Admissions\", \n",
    "                   xaxis=dict(title=\"Number of Admissions\"), \n",
    "                   yaxis=dict(title=\"Frequency\"))\n",
    "fig = go.Figure(data=go.Data([trace]), layout=layout)\n",
    "py.iplot(fig, filename='histogram-num-visits')"
   ]
  },
  {
   "cell_type": "markdown",
   "metadata": {},
   "source": [
    "### Previously Considered: Limit to only patients with 2 or more ADMISSIONS\n",
    "This code snippet was the query used to accomplish that extraction:\n",
    "\n",
    "```\n",
    "query = query_schema + \"\"\"\n",
    "SELECT fusion_table.subject_id, fusion_table.chartdate, fusion_table.text\n",
    "FROM (\n",
    "    SELECT subject_id, num_visits\n",
    "    FROM (SELECT subject_id, COUNT(subject_id) AS num_visits\n",
    "        FROM admissions\n",
    "        GROUP BY subject_id) AS count_table\n",
    "    WHERE num_visits > 1) AS visit_table\n",
    "JOIN noteevents AS fusion_table ON visit_table.subject_id = fusion_table.subject_id \n",
    "\"\"\"\n",
    "```"
   ]
  },
  {
   "cell_type": "code",
   "execution_count": 84,
   "metadata": {},
   "outputs": [
    {
     "data": {
      "image/png": "[encoded data removed]",
      "text/plain": [
       "<IPython.core.display.Image object>"
      ]
     },
     "metadata": {},
     "output_type": "display_data"
    }
   ],
   "source": [
    "# Lets produce a plot of the distribution of CLINICAL NOTES of two or greater before moving forward...\n",
    "query = query_schema + \"\"\"\n",
    "SELECT subject_id, num_clinotes\n",
    "    FROM (SELECT subject_id, COUNT(subject_id) AS num_clinotes\n",
    "        FROM noteevents\n",
    "        GROUP BY subject_id) AS count_table\n",
    "    WHERE num_clinotes > 1\n",
    "\"\"\"\n",
    "df = pd.read_sql_query(query, con)\n",
    "\n",
    "import plotly\n",
    "plotly.tools.set_credentials_file(username='chasingtheinfinite', api_key='Bmxrkfjwkbf4jHbI71Fo')\n",
    "import plotly.plotly as py\n",
    "import plotly.graph_objs as go\n",
    "\n",
    "trace = go.Histogram(x=df.num_clinotes, xbins=dict(start=2, size=1, end=np.max(df.num_clinotes)),marker=dict(color='rgb(0, 0, 100)'))\n",
    "layout = go.Layout(title=\"Histogram of the Frequency of Per-Patient Clinical Notes Greater than 2\", \n",
    "                   xaxis=dict(title=\"Number of Clinical Notes\"), \n",
    "                   yaxis=dict(title=\"Frequency\"))\n",
    "fig = go.Figure(data=go.Data([trace]), layout=layout)\n",
    "py.image.ishow(fig) # TOO MANY POINTS! Return the image instead!\n",
    "#py.iplot(fig, filename='histogram-num-visits')"
   ]
  },
  {
   "cell_type": "code",
   "execution_count": 85,
   "metadata": {},
   "outputs": [
    {
     "data": {
      "text/html": [
       "<div>\n",
       "<style>\n",
       "    .dataframe thead tr:only-child th {\n",
       "        text-align: right;\n",
       "    }\n",
       "\n",
       "    .dataframe thead th {\n",
       "        text-align: left;\n",
       "    }\n",
       "\n",
       "    .dataframe tbody tr th {\n",
       "        vertical-align: top;\n",
       "    }\n",
       "</style>\n",
       "<table border=\"1\" class=\"dataframe\">\n",
       "  <thead>\n",
       "    <tr style=\"text-align: right;\">\n",
       "      <th></th>\n",
       "      <th>subject_id</th>\n",
       "      <th>chartdate</th>\n",
       "      <th>text</th>\n",
       "    </tr>\n",
       "  </thead>\n",
       "  <tbody>\n",
       "    <tr>\n",
       "      <th>0</th>\n",
       "      <td>28365</td>\n",
       "      <td>2187-11-07</td>\n",
       "      <td>Discharge Note.\\npt. admited with hypothermia,...</td>\n",
       "    </tr>\n",
       "    <tr>\n",
       "      <th>1</th>\n",
       "      <td>28365</td>\n",
       "      <td>2187-11-07</td>\n",
       "      <td>Nursing 0200-0700:\\n\\n47 year old male, Full C...</td>\n",
       "    </tr>\n",
       "    <tr>\n",
       "      <th>2</th>\n",
       "      <td>28365</td>\n",
       "      <td>2192-06-20</td>\n",
       "      <td>[**2192-6-20**] 4:05 PM\\n CTA CHEST W&amp;W/O C&amp;RE...</td>\n",
       "    </tr>\n",
       "    <tr>\n",
       "      <th>3</th>\n",
       "      <td>28365</td>\n",
       "      <td>2192-06-20</td>\n",
       "      <td>[**2192-6-20**] 4:04 PM\\n CT C-SPINE W/O CONTR...</td>\n",
       "    </tr>\n",
       "    <tr>\n",
       "      <th>4</th>\n",
       "      <td>28365</td>\n",
       "      <td>2192-06-20</td>\n",
       "      <td>[**2192-6-20**] 4:04 PM\\n CT HEAD W/O CONTRAST...</td>\n",
       "    </tr>\n",
       "    <tr>\n",
       "      <th>5</th>\n",
       "      <td>28365</td>\n",
       "      <td>2192-06-20</td>\n",
       "      <td>[**2192-6-20**] 3:04 PM\\n CHEST (PORTABLE AP) ...</td>\n",
       "    </tr>\n",
       "    <tr>\n",
       "      <th>6</th>\n",
       "      <td>28365</td>\n",
       "      <td>2190-01-07</td>\n",
       "      <td>[**2190-1-7**] 3:15 PM\\n CHEST (PA &amp; LAT)     ...</td>\n",
       "    </tr>\n",
       "    <tr>\n",
       "      <th>7</th>\n",
       "      <td>28365</td>\n",
       "      <td>2190-01-05</td>\n",
       "      <td>[**2190-1-5**] 6:51 PM\\n CHEST (PORTABLE AP)  ...</td>\n",
       "    </tr>\n",
       "    <tr>\n",
       "      <th>8</th>\n",
       "      <td>28365</td>\n",
       "      <td>2187-11-06</td>\n",
       "      <td>[**2187-11-6**] 7:30 PM\\n CHEST (PA &amp; LAT)    ...</td>\n",
       "    </tr>\n",
       "    <tr>\n",
       "      <th>9</th>\n",
       "      <td>28365</td>\n",
       "      <td>2190-01-06</td>\n",
       "      <td>TITLE:\\n   Chief Complaint:\\n   HPI:\\n   49 yo...</td>\n",
       "    </tr>\n",
       "  </tbody>\n",
       "</table>\n",
       "</div>"
      ],
      "text/plain": [
       "   subject_id  chartdate                                               text\n",
       "0       28365 2187-11-07  Discharge Note.\\npt. admited with hypothermia,...\n",
       "1       28365 2187-11-07  Nursing 0200-0700:\\n\\n47 year old male, Full C...\n",
       "2       28365 2192-06-20  [**2192-6-20**] 4:05 PM\\n CTA CHEST W&W/O C&RE...\n",
       "3       28365 2192-06-20  [**2192-6-20**] 4:04 PM\\n CT C-SPINE W/O CONTR...\n",
       "4       28365 2192-06-20  [**2192-6-20**] 4:04 PM\\n CT HEAD W/O CONTRAST...\n",
       "5       28365 2192-06-20  [**2192-6-20**] 3:04 PM\\n CHEST (PORTABLE AP) ...\n",
       "6       28365 2190-01-07  [**2190-1-7**] 3:15 PM\\n CHEST (PA & LAT)     ...\n",
       "7       28365 2190-01-05  [**2190-1-5**] 6:51 PM\\n CHEST (PORTABLE AP)  ...\n",
       "8       28365 2187-11-06  [**2187-11-6**] 7:30 PM\\n CHEST (PA & LAT)    ...\n",
       "9       28365 2190-01-06  TITLE:\\n   Chief Complaint:\\n   HPI:\\n   49 yo..."
      ]
     },
     "execution_count": 85,
     "metadata": {},
     "output_type": "execute_result"
    }
   ],
   "source": [
    "# Make fancy query to pull thr clinical notes of only patients with two or more clinical notes\n",
    "\n",
    "# Count number of times subject_id appears in the noteevents table (indicates number of unique notes)\n",
    "# \n",
    "query = query_schema + \"\"\"\n",
    "SELECT fusion_table.subject_id, fusion_table.chartdate, fusion_table.hadm_id, fusion_table.text\n",
    "FROM (\n",
    "    SELECT subject_id, num_clinotes\n",
    "    FROM (SELECT subject_id, COUNT(subject_id) AS num_clinotes\n",
    "        FROM noteevents\n",
    "        GROUP BY subject_id) AS count_table\n",
    "    WHERE num_clinotes > 1) AS clinotes_table\n",
    "JOIN noteevents AS fusion_table ON clinotes_table.subject_id = fusion_table.subject_id \n",
    "\"\"\"\n",
    "df = pd.read_sql_query(query, con)\n",
    "df.head(10)"
   ]
  },
  {
   "cell_type": "code",
   "execution_count": 45,
   "metadata": {},
   "outputs": [
    {
     "data": {
      "text/html": [
       "<div>\n",
       "<style>\n",
       "    .dataframe thead tr:only-child th {\n",
       "        text-align: right;\n",
       "    }\n",
       "\n",
       "    .dataframe thead th {\n",
       "        text-align: left;\n",
       "    }\n",
       "\n",
       "    .dataframe tbody tr th {\n",
       "        vertical-align: top;\n",
       "    }\n",
       "</style>\n",
       "<table border=\"1\" class=\"dataframe\">\n",
       "  <thead>\n",
       "    <tr style=\"text-align: right;\">\n",
       "      <th></th>\n",
       "      <th>subject_id</th>\n",
       "      <th>chartdate</th>\n",
       "      <th>text</th>\n",
       "    </tr>\n",
       "  </thead>\n",
       "  <tbody>\n",
       "    <tr>\n",
       "      <th>508276</th>\n",
       "      <td>17</td>\n",
       "      <td>2134-12-22</td>\n",
       "      <td>Normal sinus rhythm. Tracing is within normal ...</td>\n",
       "    </tr>\n",
       "    <tr>\n",
       "      <th>508275</th>\n",
       "      <td>17</td>\n",
       "      <td>2134-12-27</td>\n",
       "      <td>OP DAY MINIMALLY INVASIVE PFO REPAIR\\nNSR. NO ...</td>\n",
       "    </tr>\n",
       "    <tr>\n",
       "      <th>508277</th>\n",
       "      <td>17</td>\n",
       "      <td>2134-12-27</td>\n",
       "      <td>Sinus rhythm. Normal ECG. Since the previous t...</td>\n",
       "    </tr>\n",
       "    <tr>\n",
       "      <th>508271</th>\n",
       "      <td>17</td>\n",
       "      <td>2134-12-28</td>\n",
       "      <td>CSRU NURSING PROGRESS NOTE 0700-1900\\nCARDIAC-...</td>\n",
       "    </tr>\n",
       "    <tr>\n",
       "      <th>508272</th>\n",
       "      <td>17</td>\n",
       "      <td>2134-12-28</td>\n",
       "      <td>replaced K+ of 3.8 with 20 MEQ KCL IVPB\\n</td>\n",
       "    </tr>\n",
       "    <tr>\n",
       "      <th>508273</th>\n",
       "      <td>17</td>\n",
       "      <td>2134-12-28</td>\n",
       "      <td>Neuro: A&amp;O X3,C/O incisional pain X1, medicate...</td>\n",
       "    </tr>\n",
       "    <tr>\n",
       "      <th>508270</th>\n",
       "      <td>17</td>\n",
       "      <td>2134-12-29</td>\n",
       "      <td>NEURO:  ALERT AND ORIENTED TO TIME, PLACE AND ...</td>\n",
       "    </tr>\n",
       "    <tr>\n",
       "      <th>508297</th>\n",
       "      <td>17</td>\n",
       "      <td>2134-12-31</td>\n",
       "      <td>Admission Date:  [**2134-12-27**]             ...</td>\n",
       "    </tr>\n",
       "    <tr>\n",
       "      <th>508278</th>\n",
       "      <td>17</td>\n",
       "      <td>2135-04-26</td>\n",
       "      <td>Sinus tachycardia. Otherwise, normal ECG. Sinc...</td>\n",
       "    </tr>\n",
       "    <tr>\n",
       "      <th>508279</th>\n",
       "      <td>17</td>\n",
       "      <td>2135-04-26</td>\n",
       "      <td>Sinus tachycardia. Otherwise, normal ECG. Sinc...</td>\n",
       "    </tr>\n",
       "    <tr>\n",
       "      <th>508280</th>\n",
       "      <td>17</td>\n",
       "      <td>2135-04-28</td>\n",
       "      <td>Sinus tachycardia. Normal ECG except for the r...</td>\n",
       "    </tr>\n",
       "    <tr>\n",
       "      <th>508282</th>\n",
       "      <td>17</td>\n",
       "      <td>2135-04-28</td>\n",
       "      <td>Sinus tachycardia. Normal ECG except for rate....</td>\n",
       "    </tr>\n",
       "    <tr>\n",
       "      <th>508283</th>\n",
       "      <td>17</td>\n",
       "      <td>2135-04-29</td>\n",
       "      <td>Sinus tachycardia\\nNo change from previous\\n\\n</td>\n",
       "    </tr>\n",
       "    <tr>\n",
       "      <th>508293</th>\n",
       "      <td>17</td>\n",
       "      <td>2135-04-29</td>\n",
       "      <td>PATIENT/TEST INFORMATION:\\nIndication: Pericar...</td>\n",
       "    </tr>\n",
       "    <tr>\n",
       "      <th>508284</th>\n",
       "      <td>17</td>\n",
       "      <td>2135-05-05</td>\n",
       "      <td>Sinus rhythm. Normal ECG. Compared to the prev...</td>\n",
       "    </tr>\n",
       "    <tr>\n",
       "      <th>508291</th>\n",
       "      <td>17</td>\n",
       "      <td>2135-05-05</td>\n",
       "      <td>PATIENT/TEST INFORMATION:\\nIndication: Pericar...</td>\n",
       "    </tr>\n",
       "    <tr>\n",
       "      <th>508268</th>\n",
       "      <td>17</td>\n",
       "      <td>2135-05-09</td>\n",
       "      <td>CSRU Admission Note\\n\\nMrs. [**Known lastname ...</td>\n",
       "    </tr>\n",
       "    <tr>\n",
       "      <th>508269</th>\n",
       "      <td>17</td>\n",
       "      <td>2135-05-09</td>\n",
       "      <td>47yr female s/p pericardial window for tampona...</td>\n",
       "    </tr>\n",
       "    <tr>\n",
       "      <th>508285</th>\n",
       "      <td>17</td>\n",
       "      <td>2135-05-09</td>\n",
       "      <td>Regular narrow complex tachycardia - probably ...</td>\n",
       "    </tr>\n",
       "    <tr>\n",
       "      <th>508286</th>\n",
       "      <td>17</td>\n",
       "      <td>2135-05-09</td>\n",
       "      <td>Regular narrow complex tachycardia - probably ...</td>\n",
       "    </tr>\n",
       "  </tbody>\n",
       "</table>\n",
       "</div>"
      ],
      "text/plain": [
       "        subject_id  chartdate  \\\n",
       "508276          17 2134-12-22   \n",
       "508275          17 2134-12-27   \n",
       "508277          17 2134-12-27   \n",
       "508271          17 2134-12-28   \n",
       "508272          17 2134-12-28   \n",
       "508273          17 2134-12-28   \n",
       "508270          17 2134-12-29   \n",
       "508297          17 2134-12-31   \n",
       "508278          17 2135-04-26   \n",
       "508279          17 2135-04-26   \n",
       "508280          17 2135-04-28   \n",
       "508282          17 2135-04-28   \n",
       "508283          17 2135-04-29   \n",
       "508293          17 2135-04-29   \n",
       "508284          17 2135-05-05   \n",
       "508291          17 2135-05-05   \n",
       "508268          17 2135-05-09   \n",
       "508269          17 2135-05-09   \n",
       "508285          17 2135-05-09   \n",
       "508286          17 2135-05-09   \n",
       "\n",
       "                                                     text  \n",
       "508276  Normal sinus rhythm. Tracing is within normal ...  \n",
       "508275  OP DAY MINIMALLY INVASIVE PFO REPAIR\\nNSR. NO ...  \n",
       "508277  Sinus rhythm. Normal ECG. Since the previous t...  \n",
       "508271  CSRU NURSING PROGRESS NOTE 0700-1900\\nCARDIAC-...  \n",
       "508272          replaced K+ of 3.8 with 20 MEQ KCL IVPB\\n  \n",
       "508273  Neuro: A&O X3,C/O incisional pain X1, medicate...  \n",
       "508270  NEURO:  ALERT AND ORIENTED TO TIME, PLACE AND ...  \n",
       "508297  Admission Date:  [**2134-12-27**]             ...  \n",
       "508278  Sinus tachycardia. Otherwise, normal ECG. Sinc...  \n",
       "508279  Sinus tachycardia. Otherwise, normal ECG. Sinc...  \n",
       "508280  Sinus tachycardia. Normal ECG except for the r...  \n",
       "508282  Sinus tachycardia. Normal ECG except for rate....  \n",
       "508283     Sinus tachycardia\\nNo change from previous\\n\\n  \n",
       "508293  PATIENT/TEST INFORMATION:\\nIndication: Pericar...  \n",
       "508284  Sinus rhythm. Normal ECG. Compared to the prev...  \n",
       "508291  PATIENT/TEST INFORMATION:\\nIndication: Pericar...  \n",
       "508268  CSRU Admission Note\\n\\nMrs. [**Known lastname ...  \n",
       "508269  47yr female s/p pericardial window for tampona...  \n",
       "508285  Regular narrow complex tachycardia - probably ...  \n",
       "508286  Regular narrow complex tachycardia - probably ...  "
      ]
     },
     "execution_count": 45,
     "metadata": {},
     "output_type": "execute_result"
    }
   ],
   "source": [
    "# Sort the subject_id column to group together the date, and then internally sort the dates for each patient...\n",
    "sorted_df = df.sort_values(['subject_id', 'chartdate'], ascending=[True, True])\n",
    "sorted_df.head(20)"
   ]
  },
  {
   "cell_type": "markdown",
   "metadata": {},
   "source": [
    "## Experimental Design\n",
    "\n",
    "We have conserved the clinical notes of only those patients with two or more visits. Given the sorted dataframe of subject_id and datetimes relative to the clinical notes, we can appropriately divide this dataset into a training and test set on a per-patient basis.\n",
    "\n",
    "---\n",
    "\n",
    "We  will now divide the dataset into a training and testing dataset. We differentitate the test set from the training set as the LAST record in the EHR. This  ensure that the clinical note is the most *future* record in the dataset. This same approach is employed accross this study. We use the latest temporal record on a within-subject basis to ensure we predict the future diagnoses of that patient rather than performing simple recall."
   ]
  },
  {
   "cell_type": "code",
   "execution_count": 79,
   "metadata": {},
   "outputs": [
    {
     "name": "stdout",
     "output_type": "stream",
     "text": [
      "Number of Subjects: 7535\n",
      "Training Set Size: 731592\n",
      "Testing Set Size: 7535\n"
     ]
    }
   ],
   "source": [
    "# Generate the Training set by removing the last record from each subject within their group of notes\n",
    "train_df = pd.DataFrame(columns=['subject_id', 'chartdate', 'hadm_id', 'text'])\n",
    "test_df = pd.DataFrame(columns=['subject_id', 'chartdate', 'hadm_id', 'text'])\n",
    "\n",
    "# Create array of all unique subject_ids\n",
    "subjects = sorted_df.subject_id.unique()\n",
    "print 'Number of Subjects: ' + str(len(subjects))\n",
    "\n",
    "# Iterate over all subjects and get their grouped data in the sorted_df\n",
    "for subject in subjects:\n",
    "    group = sorted_df.loc[sorted_df['subject_id'] == subject]\n",
    "    last_hadm = group.tail(1)['hadm_id']\n",
    "    \n",
    "    # Create variable with TRUE is hadm_id is the last one; create a second is NOT last visit\n",
    "    last_visit = group['hadm_id'] == last_hadm\n",
    "    not_last   = group['hadm_id'] != last_hadm\n",
    "    \n",
    "    # Put the data related to the LAST VISIT into the test set\n",
    "    test_df = pd.concat([test_df, group[last_visit]])\n",
    "    \n",
    "    # Remaining get appended to the training set\n",
    "    train_df = pd.concat([train_df, group[not_last]])\n",
    "\n",
    "print \"Training Set Size: \" + str(len(train_df))\n",
    "print \"Testing Set Size: \" + str(len(test_df))\n"
   ]
  },
  {
   "cell_type": "code",
   "execution_count": 66,
   "metadata": {},
   "outputs": [
    {
     "ename": "KeyboardInterrupt",
     "evalue": "",
     "output_type": "error",
     "traceback": [
      "\u001b[0;31m---------------------------------------------------------------------------\u001b[0m",
      "\u001b[0;31mKeyboardInterrupt\u001b[0m                         Traceback (most recent call last)",
      "\u001b[0;32m<ipython-input-66-42c7c4690074>\u001b[0m in \u001b[0;36m<module>\u001b[0;34m()\u001b[0m\n\u001b[1;32m      5\u001b[0m \u001b[0mFROM\u001b[0m \u001b[0mnoteevents\u001b[0m\u001b[0;34m\u001b[0m\u001b[0m\n\u001b[1;32m      6\u001b[0m \"\"\"\n\u001b[0;32m----> 7\u001b[0;31m \u001b[0mdf\u001b[0m \u001b[0;34m=\u001b[0m \u001b[0mpd\u001b[0m\u001b[0;34m.\u001b[0m\u001b[0mread_sql_query\u001b[0m\u001b[0;34m(\u001b[0m\u001b[0mquery\u001b[0m\u001b[0;34m,\u001b[0m \u001b[0mcon\u001b[0m\u001b[0;34m)\u001b[0m\u001b[0;34m\u001b[0m\u001b[0m\n\u001b[0m\u001b[1;32m      8\u001b[0m \u001b[0mtotal_notes\u001b[0m \u001b[0;34m=\u001b[0m \u001b[0mlen\u001b[0m\u001b[0;34m(\u001b[0m\u001b[0mdf\u001b[0m\u001b[0;34m)\u001b[0m\u001b[0;34m\u001b[0m\u001b[0m\n\u001b[1;32m      9\u001b[0m \u001b[0;34m\u001b[0m\u001b[0m\n",
      "\u001b[0;32m/usr/local/lib/python2.7/dist-packages/pandas/io/sql.pyc\u001b[0m in \u001b[0;36mread_sql_query\u001b[0;34m(sql, con, index_col, coerce_float, params, parse_dates, chunksize)\u001b[0m\n\u001b[1;32m    330\u001b[0m     return pandas_sql.read_query(\n\u001b[1;32m    331\u001b[0m         \u001b[0msql\u001b[0m\u001b[0;34m,\u001b[0m \u001b[0mindex_col\u001b[0m\u001b[0;34m=\u001b[0m\u001b[0mindex_col\u001b[0m\u001b[0;34m,\u001b[0m \u001b[0mparams\u001b[0m\u001b[0;34m=\u001b[0m\u001b[0mparams\u001b[0m\u001b[0;34m,\u001b[0m \u001b[0mcoerce_float\u001b[0m\u001b[0;34m=\u001b[0m\u001b[0mcoerce_float\u001b[0m\u001b[0;34m,\u001b[0m\u001b[0;34m\u001b[0m\u001b[0m\n\u001b[0;32m--> 332\u001b[0;31m         parse_dates=parse_dates, chunksize=chunksize)\n\u001b[0m\u001b[1;32m    333\u001b[0m \u001b[0;34m\u001b[0m\u001b[0m\n\u001b[1;32m    334\u001b[0m \u001b[0;34m\u001b[0m\u001b[0m\n",
      "\u001b[0;32m/usr/local/lib/python2.7/dist-packages/pandas/io/sql.pyc\u001b[0m in \u001b[0;36mread_query\u001b[0;34m(self, sql, index_col, coerce_float, params, parse_dates, chunksize)\u001b[0m\n\u001b[1;32m   1437\u001b[0m \u001b[0;34m\u001b[0m\u001b[0m\n\u001b[1;32m   1438\u001b[0m         \u001b[0margs\u001b[0m \u001b[0;34m=\u001b[0m \u001b[0m_convert_params\u001b[0m\u001b[0;34m(\u001b[0m\u001b[0msql\u001b[0m\u001b[0;34m,\u001b[0m \u001b[0mparams\u001b[0m\u001b[0;34m)\u001b[0m\u001b[0;34m\u001b[0m\u001b[0m\n\u001b[0;32m-> 1439\u001b[0;31m         \u001b[0mcursor\u001b[0m \u001b[0;34m=\u001b[0m \u001b[0mself\u001b[0m\u001b[0;34m.\u001b[0m\u001b[0mexecute\u001b[0m\u001b[0;34m(\u001b[0m\u001b[0;34m*\u001b[0m\u001b[0margs\u001b[0m\u001b[0;34m)\u001b[0m\u001b[0;34m\u001b[0m\u001b[0m\n\u001b[0m\u001b[1;32m   1440\u001b[0m         \u001b[0mcolumns\u001b[0m \u001b[0;34m=\u001b[0m \u001b[0;34m[\u001b[0m\u001b[0mcol_desc\u001b[0m\u001b[0;34m[\u001b[0m\u001b[0;36m0\u001b[0m\u001b[0;34m]\u001b[0m \u001b[0;32mfor\u001b[0m \u001b[0mcol_desc\u001b[0m \u001b[0;32min\u001b[0m \u001b[0mcursor\u001b[0m\u001b[0;34m.\u001b[0m\u001b[0mdescription\u001b[0m\u001b[0;34m]\u001b[0m\u001b[0;34m\u001b[0m\u001b[0m\n\u001b[1;32m   1441\u001b[0m \u001b[0;34m\u001b[0m\u001b[0m\n",
      "\u001b[0;32m/usr/local/lib/python2.7/dist-packages/pandas/io/sql.pyc\u001b[0m in \u001b[0;36mexecute\u001b[0;34m(self, *args, **kwargs)\u001b[0m\n\u001b[1;32m   1402\u001b[0m                 \u001b[0mcur\u001b[0m\u001b[0;34m.\u001b[0m\u001b[0mexecute\u001b[0m\u001b[0;34m(\u001b[0m\u001b[0;34m*\u001b[0m\u001b[0margs\u001b[0m\u001b[0;34m,\u001b[0m \u001b[0;34m**\u001b[0m\u001b[0mkwargs\u001b[0m\u001b[0;34m)\u001b[0m\u001b[0;34m\u001b[0m\u001b[0m\n\u001b[1;32m   1403\u001b[0m             \u001b[0;32melse\u001b[0m\u001b[0;34m:\u001b[0m\u001b[0;34m\u001b[0m\u001b[0m\n\u001b[0;32m-> 1404\u001b[0;31m                 \u001b[0mcur\u001b[0m\u001b[0;34m.\u001b[0m\u001b[0mexecute\u001b[0m\u001b[0;34m(\u001b[0m\u001b[0;34m*\u001b[0m\u001b[0margs\u001b[0m\u001b[0;34m)\u001b[0m\u001b[0;34m\u001b[0m\u001b[0m\n\u001b[0m\u001b[1;32m   1405\u001b[0m             \u001b[0;32mreturn\u001b[0m \u001b[0mcur\u001b[0m\u001b[0;34m\u001b[0m\u001b[0m\n\u001b[1;32m   1406\u001b[0m         \u001b[0;32mexcept\u001b[0m \u001b[0mException\u001b[0m \u001b[0;32mas\u001b[0m \u001b[0mexc\u001b[0m\u001b[0;34m:\u001b[0m\u001b[0;34m\u001b[0m\u001b[0m\n",
      "\u001b[0;32m<string>\u001b[0m in \u001b[0;36m__new__\u001b[0;34m(_cls, name, type_code, display_size, internal_size, precision, scale, null_ok)\u001b[0m\n",
      "\u001b[0;31mKeyboardInterrupt\u001b[0m: "
     ]
    }
   ],
   "source": [
    "# Determine the average number of clinical notes per patient...\n",
    "# This will help us determine the number of clinical notes to subsample when creating the LDA topic model!\n",
    "query = query_schema + \"\"\"\n",
    "SELECT subject_id, text\n",
    "FROM noteevents\n",
    "\"\"\"\n",
    "df = pd.read_sql_query(query, con)\n",
    "total_notes = len(df)\n",
    "\n",
    "query = query_schema + \"\"\"\n",
    "SELECT subject_id, COUNT(subject_id) AS occurences\n",
    "FROM noteevents\n",
    "GROUP BY subject_id\n",
    "\"\"\"\n",
    "df = pd.read_sql_query(query, con)\n",
    "avg_notes = df[\"occurences\"].mean()\n",
    "subsample_size = total_notes / avg_notes\n",
    "print 'Average number of Clinical Notes per Patient: ' + str(avg_notes)\n",
    "print 'Approximation of Minimum Subsample Size: ' + str(subsample_size)\n",
    "df.head()"
   ]
  },
  {
   "cell_type": "markdown",
   "metadata": {},
   "source": [
    "## Sanity Check: \n",
    "### Estimated Subsample Must be in Agreement with Number of Patients\n",
    "\n",
    "By counting the number of unique patients, we can ensure that the subsample number is in agreement with the total number of patients. In determining the average number of clinical notes and dividing it from the total number of notes, we should reconstruct the patient number. \n",
    "\n",
    "We can likely move forward with ~100,000 as our subsample which equates to ~2 clinical notes per patient to test and train our LDA model over."
   ]
  },
  {
   "cell_type": "code",
   "execution_count": 4,
   "metadata": {},
   "outputs": [
    {
     "data": {
      "text/html": [
       "<div>\n",
       "<style>\n",
       "    .dataframe thead tr:only-child th {\n",
       "        text-align: right;\n",
       "    }\n",
       "\n",
       "    .dataframe thead th {\n",
       "        text-align: left;\n",
       "    }\n",
       "\n",
       "    .dataframe tbody tr th {\n",
       "        vertical-align: top;\n",
       "    }\n",
       "</style>\n",
       "<table border=\"1\" class=\"dataframe\">\n",
       "  <thead>\n",
       "    <tr style=\"text-align: right;\">\n",
       "      <th></th>\n",
       "      <th>subject_id</th>\n",
       "    </tr>\n",
       "  </thead>\n",
       "  <tbody>\n",
       "    <tr>\n",
       "      <th>0</th>\n",
       "      <td>268</td>\n",
       "    </tr>\n",
       "    <tr>\n",
       "      <th>1</th>\n",
       "      <td>269</td>\n",
       "    </tr>\n",
       "    <tr>\n",
       "      <th>2</th>\n",
       "      <td>270</td>\n",
       "    </tr>\n",
       "    <tr>\n",
       "      <th>3</th>\n",
       "      <td>271</td>\n",
       "    </tr>\n",
       "    <tr>\n",
       "      <th>4</th>\n",
       "      <td>272</td>\n",
       "    </tr>\n",
       "  </tbody>\n",
       "</table>\n",
       "</div>"
      ],
      "text/plain": [
       "   subject_id\n",
       "0         268\n",
       "1         269\n",
       "2         270\n",
       "3         271\n",
       "4         272"
      ]
     },
     "execution_count": 4,
     "metadata": {},
     "output_type": "execute_result"
    }
   ],
   "source": [
    "# Lets count all the unique patient IDs available\n",
    "query = query_schema + \"\"\"\n",
    "SELECT subject_id\n",
    "FROM icustays\n",
    "\"\"\"\n",
    "df = pd.read_sql_query(query, con)\n",
    "df.head()"
   ]
  },
  {
   "cell_type": "code",
   "execution_count": 5,
   "metadata": {},
   "outputs": [
    {
     "name": "stdout",
     "output_type": "stream",
     "text": [
      "Number of Subjects: 61532\n",
      "Number of Unique  : \n",
      "       subject_id\n",
      "count     46476.0\n",
      "mean          1.0\n",
      "std           0.0\n",
      "min           1.0\n",
      "25%           1.0\n",
      "50%           1.0\n",
      "75%           1.0\n",
      "max           1.0\n"
     ]
    }
   ],
   "source": [
    "unique = df.groupby('subject_id').nunique()\n",
    "print \"Number of Subjects: \" + str(len(df))\n",
    "print \"Number of Unique  : \"\n",
    "print unique.describe()"
   ]
  },
  {
   "cell_type": "markdown",
   "metadata": {},
   "source": [
    "### Total number of Unique Patients: 46,476\n",
    "This comprises **38,596 distinct adults** and **7,870 neonates**\n",
    "\n",
    "For the purposes of this study, we will remove neonates and develop a classifier suitable to the prediction adult ICD9 codes. This will be achieved by enforcing "
   ]
  },
  {
   "cell_type": "code",
   "execution_count": 6,
   "metadata": {},
   "outputs": [
    {
     "data": {
      "text/html": [
       "<div>\n",
       "<style>\n",
       "    .dataframe thead tr:only-child th {\n",
       "        text-align: right;\n",
       "    }\n",
       "\n",
       "    .dataframe thead th {\n",
       "        text-align: left;\n",
       "    }\n",
       "\n",
       "    .dataframe tbody tr th {\n",
       "        vertical-align: top;\n",
       "    }\n",
       "</style>\n",
       "<table border=\"1\" class=\"dataframe\">\n",
       "  <thead>\n",
       "    <tr style=\"text-align: right;\">\n",
       "      <th></th>\n",
       "      <th>subject_id</th>\n",
       "      <th>icd9_code</th>\n",
       "    </tr>\n",
       "  </thead>\n",
       "  <tbody>\n",
       "    <tr>\n",
       "      <th>0</th>\n",
       "      <td>109</td>\n",
       "      <td>40301</td>\n",
       "    </tr>\n",
       "    <tr>\n",
       "      <th>1</th>\n",
       "      <td>109</td>\n",
       "      <td>486</td>\n",
       "    </tr>\n",
       "    <tr>\n",
       "      <th>2</th>\n",
       "      <td>109</td>\n",
       "      <td>58281</td>\n",
       "    </tr>\n",
       "    <tr>\n",
       "      <th>3</th>\n",
       "      <td>109</td>\n",
       "      <td>5855</td>\n",
       "    </tr>\n",
       "    <tr>\n",
       "      <th>4</th>\n",
       "      <td>109</td>\n",
       "      <td>4254</td>\n",
       "    </tr>\n",
       "  </tbody>\n",
       "</table>\n",
       "</div>"
      ],
      "text/plain": [
       "   subject_id icd9_code\n",
       "0         109     40301\n",
       "1         109       486\n",
       "2         109     58281\n",
       "3         109      5855\n",
       "4         109      4254"
      ]
     },
     "execution_count": 6,
     "metadata": {},
     "output_type": "execute_result"
    }
   ],
   "source": [
    "# Next lets find the vocabulary of all ICD-9 Code\n",
    "query = query_schema + \"\"\"\n",
    "SELECT subject_id, icd9_code\n",
    "FROM diagnoses_icd\n",
    "\"\"\"\n",
    "df = pd.read_sql_query(query, con)\n",
    "df.head()"
   ]
  },
  {
   "cell_type": "code",
   "execution_count": 7,
   "metadata": {},
   "outputs": [
    {
     "name": "stdout",
     "output_type": "stream",
     "text": [
      "The number of unique ICD-9 Codes with a Patient: 6985\n"
     ]
    }
   ],
   "source": [
    "icd9_num = len(df.icd9_code.unique())\n",
    "print \"The number of unique ICD-9 Codes with a Patient: \" + str(icd9_num)"
   ]
  },
  {
   "cell_type": "markdown",
   "metadata": {},
   "source": [
    "### Total number of Unique ICD-9 Codes with at Least One Diagnosed Patient: 6,985\n"
   ]
  },
  {
   "cell_type": "code",
   "execution_count": 8,
   "metadata": {},
   "outputs": [
    {
     "data": {
      "text/html": [
       "<div>\n",
       "<style>\n",
       "    .dataframe thead tr:only-child th {\n",
       "        text-align: right;\n",
       "    }\n",
       "\n",
       "    .dataframe thead th {\n",
       "        text-align: left;\n",
       "    }\n",
       "\n",
       "    .dataframe tbody tr th {\n",
       "        vertical-align: top;\n",
       "    }\n",
       "</style>\n",
       "<table border=\"1\" class=\"dataframe\">\n",
       "  <thead>\n",
       "    <tr style=\"text-align: right;\">\n",
       "      <th></th>\n",
       "      <th>icd9_code</th>\n",
       "      <th>count</th>\n",
       "    </tr>\n",
       "  </thead>\n",
       "  <tbody>\n",
       "    <tr>\n",
       "      <th>0</th>\n",
       "      <td>None</td>\n",
       "      <td>47</td>\n",
       "    </tr>\n",
       "    <tr>\n",
       "      <th>1</th>\n",
       "      <td>2538</td>\n",
       "      <td>12</td>\n",
       "    </tr>\n",
       "    <tr>\n",
       "      <th>2</th>\n",
       "      <td>69012</td>\n",
       "      <td>1</td>\n",
       "    </tr>\n",
       "    <tr>\n",
       "      <th>3</th>\n",
       "      <td>82100</td>\n",
       "      <td>14</td>\n",
       "    </tr>\n",
       "    <tr>\n",
       "      <th>4</th>\n",
       "      <td>E8694</td>\n",
       "      <td>1</td>\n",
       "    </tr>\n",
       "  </tbody>\n",
       "</table>\n",
       "</div>"
      ],
      "text/plain": [
       "  icd9_code  count\n",
       "0      None     47\n",
       "1      2538     12\n",
       "2     69012      1\n",
       "3     82100     14\n",
       "4     E8694      1"
      ]
     },
     "execution_count": 8,
     "metadata": {},
     "output_type": "execute_result"
    }
   ],
   "source": [
    "# Count the number of Occurences of each ICD-9 Code \n",
    "query = query_schema + \"\"\"\n",
    "SELECT icd9_code, COUNT(*)\n",
    "FROM diagnoses_icd\n",
    "GRouP BY icd9_code\n",
    "\"\"\"\n",
    "df = pd.read_sql_query(query, con)\n",
    "df.head()"
   ]
  },
  {
   "cell_type": "code",
   "execution_count": 9,
   "metadata": {},
   "outputs": [
    {
     "name": "stdout",
     "output_type": "stream",
     "text": [
      "Number of unique Procedure Codes: 2032\n"
     ]
    }
   ],
   "source": [
    "# Lets Count the Number of Unique Procedures to use as headers in our Raw Matrix...\n",
    "query = query_schema + \"\"\"\n",
    "SELECT icd9_code\n",
    "FROM procedures_icd\n",
    "\"\"\"\n",
    "df = pd.read_sql_query(query, con)\n",
    "df.head()\n",
    "print \"Number of unique Procedure Codes: \" + str(len(df.icd9_code.unique()))"
   ]
  },
  {
   "cell_type": "code",
   "execution_count": 11,
   "metadata": {},
   "outputs": [
    {
     "name": "stdout",
     "output_type": "stream",
     "text": [
      "Number of unique Prescriptions Codes: 4525\n"
     ]
    }
   ],
   "source": [
    "# Lets Count the Number of Unique Procedures to use as headers in our Raw Matrix...\n",
    "query = query_schema + \"\"\"\n",
    "SELECT drug\n",
    "FROM prescriptions\n",
    "\"\"\"\n",
    "df = pd.read_sql_query(query, con)\n",
    "df.head()\n",
    "print \"Number of unique Prescriptions Codes: \" + str(len(df.drug.unique()))"
   ]
  },
  {
   "cell_type": "code",
   "execution_count": 22,
   "metadata": {},
   "outputs": [
    {
     "data": {
      "text/html": [
       "<iframe id=\"igraph\" scrolling=\"no\" style=\"border:none;\" seamless=\"seamless\" src=\"https://plot.ly/~chasingtheinfinite/11.embed\" height=\"525px\" width=\"100%\"></iframe>"
      ],
      "text/plain": [
       "<plotly.tools.PlotlyDisplay object>"
      ]
     },
     "execution_count": 22,
     "metadata": {},
     "output_type": "execute_result"
    }
   ],
   "source": [
    "#Some Serious Plotting Meow... Move this to top eventually.....\n",
    "import plotly\n",
    "plotly.tools.set_credentials_file(username='chasingtheinfinite', api_key='Bmxrkfjwkbf4jHbI71Fo')\n",
    "import plotly.plotly as py\n",
    "import plotly.graph_objs as go\n",
    "import plotly.figure_factory as ff\n",
    "\n",
    "\n",
    "# Create a Simple Histogra based on the counts\n",
    "#data = [Bar(x = df.icd9_code,\n",
    "#            y = df.count)]\n",
    "#py.iplot(data, filename = 'jupyter/icd9_histogram')\n",
    "#df.iplot(kind = 'histogram', filename = 'jupyter/icd9_histogram')\n",
    "data = [go.Histogram(x = df['count'],\n",
    "                     name = 'ICD9 Counts',\n",
    "                     text = df['icd9_code'])]\n",
    "\n",
    "layout = go.Layout(title = 'Histogram of ICD9 Counts',\n",
    "                   xaxis = dict(title = 'ICD9 Code'),\n",
    "                   yaxis = dict(title = 'Counts'))\n",
    "\n",
    "fig = go.Figure(data = data, layout = layout)\n",
    "py.iplot(fig, filename = 'pandas/simple-histogram')"
   ]
  },
  {
   "cell_type": "code",
   "execution_count": null,
   "metadata": {},
   "outputs": [],
   "source": [
    "# Given the sparcity of diagnoses, we definitely need to generalise these codes.\n"
   ]
  },
  {
   "cell_type": "code",
   "execution_count": null,
   "metadata": {},
   "outputs": [],
   "source": []
  }
 ],
 "metadata": {
  "kernelspec": {
   "display_name": "Python 2",
   "language": "python",
   "name": "python2"
  },
  "language_info": {
   "codemirror_mode": {
    "name": "ipython",
    "version": 2
   },
   "file_extension": ".py",
   "mimetype": "text/x-python",
   "name": "python",
   "nbconvert_exporter": "python",
   "pygments_lexer": "ipython2",
   "version": "2.7.12"
  }
 },
 "nbformat": 4,
 "nbformat_minor": 2
}
